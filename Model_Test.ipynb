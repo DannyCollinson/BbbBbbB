{
 "cells": [
  {
   "cell_type": "code",
   "execution_count": 191,
   "id": "a2c44c4f-5fdf-47a0-92ce-0883c71276b7",
   "metadata": {},
   "outputs": [],
   "source": [
    "import os\n",
    "import numpy as np\n",
    "import pandas as pd\n",
    "import torch\n",
    "import torch.nn as nn\n",
    "import torch.nn.functional as F\n",
    "from torch.utils.data import Dataset\n",
    "from torch.utils.data import DataLoader\n",
    "from torch.utils.data import random_split\n",
    "import torch.optim as optim"
   ]
  },
  {
   "cell_type": "code",
   "execution_count": 424,
   "id": "fd89f9d5-6411-49ad-b492-4d0c3e06ff01",
   "metadata": {},
   "outputs": [],
   "source": [
    "class XRayDataset(Dataset):\n",
    "    def __init__(self, label_path, imdir_path, remote=True):\n",
    "        # label_path is the path to the label sheet containing,\n",
    "        # at minimum, columns 'id', 'Path', and the 9 needed labels\n",
    "        # imdir_path is the path to the directory of all images\n",
    "        self.label_path = label_path\n",
    "        self.imdir_path = imdir_path\n",
    "        self.remote = remote\n",
    "        self.inds = None\n",
    "        if remote:\n",
    "            self.labels = pd.read_csv(label_path, low_memory=False, index_col='id')\n",
    "        else:\n",
    "            labs = pd.read_csv(self.label_path, low_memory=False)\n",
    "            labs.rename(columns={'Unnamed: 0':'id'}, inplace=True)\n",
    "            self.inds = []\n",
    "            for i, path in enumerate(labs.Path.values):\n",
    "                if i < len(labs.Path.values) - 1:\n",
    "                    if int(path[9:14]) <= 20:\n",
    "                        self.inds.append(i)\n",
    "            labes = labs.iloc[inds]\n",
    "            self.labels = labes.reset_index()\n",
    "    \n",
    "    def __len__(self):\n",
    "        return self.labels.shape[0]\n",
    "    \n",
    "    def __getitem__(self, idx):\n",
    "        row = self.labels.loc[idx]\n",
    "        impath = row['Path'].replace('/','_')[6:21] + row['Path'][27:-4] + '.npy'\n",
    "        im = np.load(os.path.join(imdir_path, impath))\n",
    "        return torch.from_numpy(im), torch.tensor((row[5:].values).astype(int)+1).type(torch.long)"
   ]
  },
  {
   "cell_type": "code",
   "execution_count": 425,
   "id": "838a5fa8-2aac-4e23-a86c-b85efd28dc2d",
   "metadata": {},
   "outputs": [],
   "source": [
    "class Net(nn.Module):\n",
    "    def __init__(self):\n",
    "        super().__init__()\n",
    "        self.lin1 = nn.Linear(200, 200)\n",
    "        self.lin2 = nn.Linear(200, 100)\n",
    "        self.lin3 = nn.Linear(100, 50)\n",
    "        self.lin4 = nn.Linear(50, 16)\n",
    "    \n",
    "    def forward(self, x):\n",
    "        x = torch.Tensor(x.type(torch.float))\n",
    "        x = F.relu(F.dropout(self.lin1(x)))\n",
    "        x = F.relu(F.dropout(self.lin2(x)))\n",
    "        x = F.relu(F.dropout(self.lin3(x)))\n",
    "        x = self.lin4(x)\n",
    "        return F.softmax(x, dim=1)"
   ]
  },
  {
   "cell_type": "code",
   "execution_count": 426,
   "id": "7d1d8abc-640b-4d76-a663-97b538c2eda4",
   "metadata": {},
   "outputs": [],
   "source": [
    "label_path = \"C:\\\\Users\\\\danny\\\\OneDrive\\\\Documents\\\\Caltech Stuff\\\\Junior_Year\\\\CS156b\\\\labels_ints.csv\" # \"/groups/CS156b/2023/BbbBbbB/labels.csv\"\n",
    "imdir_path = \"D:\\\\cs156\\\\images_200x200\" # \"/groups/CS156b/2023/BbbBbbB/images_200x200/\"\n",
    "\n",
    "data = XRayDataset(label_path, imdir_path, remote=False) # remote=True"
   ]
  },
  {
   "cell_type": "code",
   "execution_count": 431,
   "id": "68691134-80c3-4cc0-b9e2-a0f6a8a718d1",
   "metadata": {},
   "outputs": [],
   "source": [
    "train_test = random_split(data, [int(len(data)*0.8), len(data)-int(len(data)*0.8)])\n",
    "\n",
    "batch_size = 8\n",
    "train_loader = DataLoader(train_test[0], batch_size=batch_size, shuffle=True)\n",
    "test_loader = DataLoader(train_test[1], batch_size=batch_size, shuffle=False)"
   ]
  },
  {
   "cell_type": "code",
   "execution_count": 432,
   "id": "c76eae3d-b68a-449e-8746-12a20560a1a5",
   "metadata": {},
   "outputs": [],
   "source": [
    "net = Net()\n",
    "loss_fn = nn.CrossEntropyLoss()\n",
    "optimizer = optim.SGD(net.parameters(), lr=0.01)"
   ]
  },
  {
   "cell_type": "code",
   "execution_count": 433,
   "id": "b5a542c6-d118-4129-9a4d-39ef681836e4",
   "metadata": {},
   "outputs": [
    {
     "name": "stdout",
     "output_type": "stream",
     "text": [
      "Epoch: 5\n",
      "Epoch: 10\n",
      "Finished Training\n"
     ]
    }
   ],
   "source": [
    "for epoch in range(10):\n",
    "    for im in train_loader:\n",
    "        inputs, labels = im\n",
    "        i += 1\n",
    "        optimizer.zero_grad()\n",
    "        \n",
    "        outputs = net(inputs)\n",
    "        loss = loss_fn(outputs, labels)\n",
    "        loss.backward()\n",
    "        optimizer.step()\n",
    "        \n",
    "    if epoch % 5 == 4:\n",
    "        print('Epoch:', epoch+1)\n",
    "        \n",
    "print('Finished Training')"
   ]
  },
  {
   "cell_type": "code",
   "execution_count": 434,
   "id": "e02903f3-0d74-4d98-b207-75f478fbacf0",
   "metadata": {},
   "outputs": [
    {
     "ename": "RuntimeError",
     "evalue": "The size of tensor a (16) must match the size of tensor b (8) at non-singleton dimension 1",
     "output_type": "error",
     "traceback": [
      "\u001b[1;31m---------------------------------------------------------------------------\u001b[0m",
      "\u001b[1;31mRuntimeError\u001b[0m                              Traceback (most recent call last)",
      "\u001b[1;32m~\\AppData\\Local\\Temp\\ipykernel_1336\\630412517.py\u001b[0m in \u001b[0;36m<cell line: 5>\u001b[1;34m()\u001b[0m\n\u001b[0;32m     12\u001b[0m         \u001b[0mtruth\u001b[0m\u001b[1;33m.\u001b[0m\u001b[0mextend\u001b[0m\u001b[1;33m(\u001b[0m\u001b[0mtrue_labels\u001b[0m\u001b[1;33m)\u001b[0m\u001b[1;33m\u001b[0m\u001b[1;33m\u001b[0m\u001b[0m\n\u001b[0;32m     13\u001b[0m         \u001b[0mtotal\u001b[0m \u001b[1;33m+=\u001b[0m \u001b[0mtrue_labels\u001b[0m\u001b[1;33m.\u001b[0m\u001b[0msize\u001b[0m\u001b[1;33m(\u001b[0m\u001b[1;36m0\u001b[0m\u001b[1;33m)\u001b[0m\u001b[1;33m\u001b[0m\u001b[1;33m\u001b[0m\u001b[0m\n\u001b[1;32m---> 14\u001b[1;33m         \u001b[0mcorrect\u001b[0m \u001b[1;33m+=\u001b[0m \u001b[1;33m(\u001b[0m\u001b[0mpredicted\u001b[0m \u001b[1;33m==\u001b[0m \u001b[0mtrue_labels\u001b[0m\u001b[1;33m)\u001b[0m\u001b[1;33m.\u001b[0m\u001b[0msum\u001b[0m\u001b[1;33m(\u001b[0m\u001b[1;33m)\u001b[0m\u001b[1;33m.\u001b[0m\u001b[0mitem\u001b[0m\u001b[1;33m(\u001b[0m\u001b[1;33m)\u001b[0m\u001b[1;33m\u001b[0m\u001b[1;33m\u001b[0m\u001b[0m\n\u001b[0m\u001b[0;32m     15\u001b[0m \u001b[1;33m\u001b[0m\u001b[0m\n\u001b[0;32m     16\u001b[0m \u001b[0mprint\u001b[0m\u001b[1;33m(\u001b[0m\u001b[1;34mf'Accuracy on the test set: {100 * correct // total} %'\u001b[0m\u001b[1;33m)\u001b[0m\u001b[1;33m\u001b[0m\u001b[1;33m\u001b[0m\u001b[0m\n",
      "\u001b[1;31mRuntimeError\u001b[0m: The size of tensor a (16) must match the size of tensor b (8) at non-singleton dimension 1"
     ]
    }
   ],
   "source": [
    "correct = 0\n",
    "total = 0\n",
    "preds = []\n",
    "truth = []\n",
    "with torch.no_grad():\n",
    "    for data in test_loader:\n",
    "        inputs, labels = data\n",
    "        _, true_labels = torch.max(labels, 1)\n",
    "        outputs = net(inputs)\n",
    "        _, predicted = torch.max(outputs.data, 1)\n",
    "        preds.extend(predicted)\n",
    "        truth.extend(true_labels)\n",
    "        total += true_labels.size(0)\n",
    "        correct += (predicted == true_labels).sum().item()\n",
    "\n",
    "print(f'Accuracy on the test set: {100 * correct // total} %')"
   ]
  },
  {
   "cell_type": "code",
   "execution_count": null,
   "id": "e8ab3e17-7f86-41b2-afe8-c071e7f25197",
   "metadata": {},
   "outputs": [],
   "source": []
  }
 ],
 "metadata": {
  "kernelspec": {
   "display_name": "Python 3 (ipykernel)",
   "language": "python",
   "name": "python3"
  },
  "language_info": {
   "codemirror_mode": {
    "name": "ipython",
    "version": 3
   },
   "file_extension": ".py",
   "mimetype": "text/x-python",
   "name": "python",
   "nbconvert_exporter": "python",
   "pygments_lexer": "ipython3",
   "version": "3.8.16"
  }
 },
 "nbformat": 4,
 "nbformat_minor": 5
}
